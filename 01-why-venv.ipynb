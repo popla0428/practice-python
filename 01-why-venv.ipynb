{
 "cells": [
  {
   "cell_type": "markdown",
   "metadata": {},
   "source": [
    "source: https://realpython.com/python-virtual-environments-a-primer/#why-the-need-for-virtual-environments "
   ]
  },
  {
   "cell_type": "markdown",
   "metadata": {},
   "source": [
    "### 가상환경이 필요한 이유\n"
   ]
  },
  {
   "cell_type": "markdown",
   "metadata": {},
   "source": [
    "#### 사전지식 - 시스템 패키지 vs. 사이트 패키지"
   ]
  },
  {
   "cell_type": "markdown",
   "metadata": {},
   "source": [
    "다른 대부분의 현대 프로그래밍 언어들과 마찬가지로, 파이썬도 그것 고유의 방식으로 패키지 (모듈)을 다운로드, 저장, 해석한다.  \n",
    "이 고유의 방식이 가진 장점과는 별개로, 그 특유의 패키지 저장과 작업 방식 때문에 몇몇 문제들이 야기되고는 한다. "
   ]
  },
  {
   "cell_type": "markdown",
   "metadata": {},
   "source": [
    "우리 시스템에는 이 패키지들이 설치될 수 있는 몇 개의 공간들이 있다.  \n",
    "예를 들어, 대부분의 **시스템 패키지**는 sys.prefix에 저장된 경로의 child dir에 저장되어 있다.   \n",
    "Mac OS에서는 아래와 같이 Python shell을 이용하여 sys.prefix가 어디를 가리키고 있는지 간단히 확인할 수 있다."
   ]
  },
  {
   "cell_type": "code",
   "execution_count": 1,
   "metadata": {},
   "outputs": [
    {
     "data": {
      "text/plain": [
       "'/Users/mk-mac-326/opt/anaconda3'"
      ]
     },
     "execution_count": 1,
     "metadata": {},
     "output_type": "execute_result"
    }
   ],
   "source": [
    "import sys\n",
    "sys.prefix"
   ]
  },
  {
   "cell_type": "markdown",
   "metadata": {},
   "source": [
    "또한, **pip** (혹은 easy_install)을 사용해 설치한 **써드파티 패키지**는 site.getsitepackages가 가리키는 경로들 중 하나에 위치해 있다."
   ]
  },
  {
   "cell_type": "code",
   "execution_count": 3,
   "metadata": {},
   "outputs": [
    {
     "data": {
      "text/plain": [
       "['/Users/mk-mac-326/opt/anaconda3/lib/python3.9/site-packages']"
      ]
     },
     "execution_count": 3,
     "metadata": {},
     "output_type": "execute_result"
    }
   ],
   "source": [
    "import site \n",
    "site.getsitepackages()"
   ]
  },
  {
   "cell_type": "markdown",
   "metadata": {},
   "source": [
    "#### 가상환경이 필요한 이유 "
   ]
  },
  {
   "cell_type": "markdown",
   "metadata": {},
   "source": [
    "이 둘을 알아 두는 것이 중요한 이유는, 내 시스템 상의 모든 프로젝트는 사이트 패키지 (써드파티 라이브러리)를 저장하고 불러들이는 데 디폴트로 같은 경로를 사용할 것이기 때문이다.  \n",
    "이 사실이 처음엔 별로 안 중요해 보일 수도 있지만, (실제로 시스템 패키지에는 그러함), 사이트 패키지에서는 중요한 문제가 된다.  \n",
    "예를 들어, 내가 프로젝트 A와 B를 진행하고 있는데 이 두 개가 C라는 라이브러리에 의존한다고 해보자. 위에서 언급한 문제는 다른 버전의 C가 필요한 상황에서 명확해 진다. 프로젝트 A는 v1.0.0의 C가 필요한 반면, B는 v2.0.0이 필요할 수도 있을 것이다.  \n",
    "하지만 파이썬은 사이트 패키지 경로 상 버전 구분을 못 하기 때문에, C의 v1.0.0과 v2.0.0은 같은 이름으로 같은 경로에 존재하게 된다.  \n",
    "이처럼 프로젝트들이 버전 간 구분 없이 그냥 이름을 기준으로 저장되다 보니, 프로젝트 A와 B 모두 어쩔 수 없이 같은 버전의 C를 사용해야 하는 문제가 발생하고, 이러한 해결방식은 많은 상황에서 받아들여지기 힘들다. 이러한 문제를 방지하기 위해 가상환경 (venv) 도구가 필요한 것이다!  "
   ]
  },
  {
   "cell_type": "markdown",
   "metadata": {},
   "source": []
  }
 ],
 "metadata": {
  "interpreter": {
   "hash": "48cb142fe1450c0bc3ddbba4529d13214908405b5e226dda8550396753ef79c0"
  },
  "kernelspec": {
   "display_name": "Python 3.9.7 ('base')",
   "language": "python",
   "name": "python3"
  },
  "language_info": {
   "codemirror_mode": {
    "name": "ipython",
    "version": 3
   },
   "file_extension": ".py",
   "mimetype": "text/x-python",
   "name": "python",
   "nbconvert_exporter": "python",
   "pygments_lexer": "ipython3",
   "version": "3.9.7"
  },
  "orig_nbformat": 4
 },
 "nbformat": 4,
 "nbformat_minor": 2
}
